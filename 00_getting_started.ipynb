{
  "cells": [
    {
      "cell_type": "markdown",
      "id": "1dfd7ec3",
      "metadata": {
        "id": "1dfd7ec3"
      },
      "source": [
        "# Getting started with Bifrost\n",
        "\n",
        "Once Bifrost is installed you can load the Python API with:"
      ]
    },
    {
      "cell_type": "code",
      "source": [
        "%%bash\n",
        "# @title Build and install\n",
        "export LD_LIBRARY_PATH=/usr/local/lib:${LD_LIBRARY_PATH}\n",
        "if python -c 'import bifrost' 2>/dev/null; then\n",
        "    echo \"Great, bifrost import seems to work.\"\n",
        "    exit 0\n",
        "else\n",
        "    if python -c 'import google.colab' 2>/dev/null; then\n",
        "        echo \"No bifrost but we're on Google Colab, so will try to install.\"\n",
        "    else\n",
        "        echo \"Sorry, please use a runtime with access to Bifrost.\"\n",
        "        exit 1\n",
        "    fi\n",
        "fi\n",
        "sudo apt-get -qq install exuberant-ctags libopenblas-dev software-properties-common build-essential\n",
        "pip install -q contextlib2 pint simplejson scipy git+https://github.com/ctypesgen/ctypesgen.git\n",
        "if [ ! -d ~/bifrost/.git ]; then\n",
        "  git clone https://github.com/ledatelescope/bifrost ~/bifrost\n",
        "fi\n",
        "cd ~/bifrost\n",
        "./configure && make -j all && sudo make install"
      ],
      "metadata": {
        "id": "S-IQgISobCvU",
        "outputId": "65f3833c-feb8-429a-b0af-1a16db3b56f7",
        "colab": {
          "base_uri": "https://localhost:8080/"
        }
      },
      "id": "S-IQgISobCvU",
      "execution_count": 1,
      "outputs": [
        {
          "output_type": "stream",
          "name": "stdout",
          "text": [
            "No bifrost but we're on Google Colab, so will try to install.\n",
            "Selecting previously unselected package exuberant-ctags.\r\n",
            "(Reading database ... \r(Reading database ... 5%\r(Reading database ... 10%\r(Reading database ... 15%\r(Reading database ... 20%\r(Reading database ... 25%\r(Reading database ... 30%\r(Reading database ... 35%\r(Reading database ... 40%\r(Reading database ... 45%\r(Reading database ... 50%\r(Reading database ... 55%\r(Reading database ... 60%\r(Reading database ... 65%\r(Reading database ... 70%\r(Reading database ... 75%\r(Reading database ... 80%\r(Reading database ... 85%\r(Reading database ... 90%\r(Reading database ... 95%\r(Reading database ... 100%\r(Reading database ... 155202 files and directories currently installed.)\r\n",
            "Preparing to unpack .../exuberant-ctags_1%3a5.9~svn20110310-11_amd64.deb ...\r\n",
            "Unpacking exuberant-ctags (1:5.9~svn20110310-11) ...\r\n",
            "Setting up exuberant-ctags (1:5.9~svn20110310-11) ...\r\n",
            "update-alternatives: using /usr/bin/ctags-exuberant to provide /usr/bin/ctags (ctags) in auto mode\r\n",
            "update-alternatives: using /usr/bin/ctags-exuberant to provide /usr/bin/etags (etags) in auto mode\r\n",
            "Processing triggers for man-db (2.8.3-2ubuntu0.1) ...\r\n",
            "checking build system type... x86_64-unknown-linux-gnu\n",
            "checking host system type... x86_64-unknown-linux-gnu\n",
            "checking how to print strings... printf\n",
            "checking for gcc... gcc\n",
            "checking whether the C compiler works... yes\n",
            "checking for C compiler default output file name... a.out\n",
            "checking for suffix of executables... \n",
            "checking whether we are cross compiling... no\n",
            "checking for suffix of object files... o\n",
            "checking whether the compiler supports GNU C... yes\n",
            "checking whether gcc accepts -g... yes\n",
            "checking for gcc option to enable C11 features... none needed\n",
            "checking for a sed that does not truncate output... /bin/sed\n",
            "checking for grep that handles long lines and -e... /bin/grep\n",
            "checking for egrep... /bin/grep -E\n",
            "checking for fgrep... /bin/grep -F\n",
            "checking for ld used by gcc... /usr/bin/ld\n",
            "checking if the linker (/usr/bin/ld) is GNU ld... yes\n",
            "checking for BSD- or MS-compatible name lister (nm)... /usr/bin/nm -B\n",
            "checking the name lister (/usr/bin/nm -B) interface... BSD nm\n",
            "checking whether ln -s works... yes\n",
            "checking the maximum length of command line arguments... 1572864\n",
            "checking how to convert x86_64-unknown-linux-gnu file names to x86_64-unknown-linux-gnu format... func_convert_file_noop\n",
            "checking how to convert x86_64-unknown-linux-gnu file names to toolchain format... func_convert_file_noop\n",
            "checking for /usr/bin/ld option to reload object files... -r\n",
            "checking for objdump... objdump\n",
            "checking how to recognize dependent libraries... pass_all\n",
            "checking for dlltool... no\n",
            "checking how to associate runtime and link libraries... printf %s\\n\n",
            "checking for g++... g++\n",
            "checking whether the compiler supports GNU C++... yes\n",
            "checking whether g++ accepts -g... yes\n",
            "checking for g++ option to enable C++11 features... none needed\n",
            "checking for ar... ar\n",
            "checking for archiver @FILE support... @\n",
            "checking for strip... strip\n",
            "checking for ranlib... ranlib\n",
            "checking for gawk... no\n",
            "checking for mawk... mawk\n",
            "checking command to parse /usr/bin/nm -B output from gcc object... ok\n",
            "checking for sysroot... no\n",
            "checking for a working dd... /bin/dd\n",
            "checking how to truncate binary pipes... /bin/dd bs=4096 count=1\n",
            "checking for mt... no\n",
            "checking if : is a manifest tool... no\n",
            "checking for stdio.h... yes\n",
            "checking for stdlib.h... yes\n",
            "checking for string.h... yes\n",
            "checking for inttypes.h... yes\n",
            "checking for stdint.h... yes\n",
            "checking for strings.h... yes\n",
            "checking for sys/stat.h... yes\n",
            "checking for sys/types.h... yes\n",
            "checking for unistd.h... yes\n",
            "checking for dlfcn.h... yes\n",
            "checking for objdir... .libs\n",
            "checking if gcc supports -fno-rtti -fno-exceptions... no\n",
            "checking for gcc option to produce PIC... -fPIC -DPIC\n",
            "checking if gcc PIC flag -fPIC -DPIC works... yes\n",
            "checking if gcc static flag -static works... yes\n",
            "checking if gcc supports -c -o file.o... yes\n",
            "checking if gcc supports -c -o file.o... (cached) yes\n",
            "checking whether the gcc linker (/usr/bin/ld) supports shared libraries... yes\n",
            "checking whether -lc should be explicitly linked in... no\n",
            "checking dynamic linker characteristics... GNU/Linux ld.so\n",
            "checking how to hardcode library paths into programs... immediate\n",
            "checking whether stripping libraries is possible... yes\n",
            "checking if libtool supports shared libraries... yes\n",
            "checking whether to build shared libraries... yes\n",
            "checking whether to build static libraries... yes\n",
            "checking how to run the C++ preprocessor... g++ -E\n",
            "checking for ld used by g++... /usr/bin/ld\n",
            "checking if the linker (/usr/bin/ld) is GNU ld... yes\n",
            "checking whether the g++ linker (/usr/bin/ld) supports shared libraries... yes\n",
            "checking for g++ option to produce PIC... -fPIC -DPIC\n",
            "checking if g++ PIC flag -fPIC -DPIC works... yes\n",
            "checking if g++ static flag -static works... yes\n",
            "checking if g++ supports -c -o file.o... yes\n",
            "checking if g++ supports -c -o file.o... (cached) yes\n",
            "checking whether the g++ linker (/usr/bin/ld) supports shared libraries... yes\n",
            "checking dynamic linker characteristics... (cached) GNU/Linux ld.so\n",
            "checking how to hardcode library paths into programs... immediate\n",
            "checking for gcc... (cached) gcc\n",
            "checking whether the compiler supports GNU C... (cached) yes\n",
            "checking whether gcc accepts -g... (cached) yes\n",
            "checking for gcc option to enable C11 features... (cached) none needed\n",
            "checking whether the compiler supports GNU C++... (cached) yes\n",
            "checking whether g++ accepts -g... (cached) yes\n",
            "checking for g++ option to enable C++11 features... (cached) none needed\n",
            "checking for gawk... (cached) mawk\n",
            "checking for a sed that does not truncate output... (cached) /bin/sed\n",
            "checking for a BSD-compatible install... /usr/bin/install -c\n",
            "checking whether ln -s works... yes\n",
            "checking whether make sets $(MAKE)... yes\n",
            "checking whether ctags executable path has been provided... no\n",
            "checking for ctags... /usr/bin/ctags\n",
            "checking whether /usr/bin/ctags is exuberant... yes\n",
            "checking for inline... inline\n",
            "checking whether g++ supports C++20 features with -std=c++20... no\n",
            "checking whether g++ supports C++20 features with +std=c++20... no\n",
            "checking whether g++ supports C++20 features with -h std=c++20... no\n",
            "configure: No compiler with C++20 support was found\n",
            "checking whether g++ supports C++17 features with -std=c++17... yes\n",
            "checking for C++ std::filesystem support... no\n",
            "checking for C++ std::string::ends_with support... no\n",
            "checking for memset... yes\n",
            "checking for rint... yes\n",
            "checking for socket... yes\n",
            "checking for recvmsg... yes\n",
            "checking for sqrt... yes\n",
            "checking for strerror... yes\n",
            "checking for arpa/inet.h... yes\n",
            "checking for netdb.h... yes\n",
            "checking for netinet/in.h... yes\n",
            "checking for sys/file.h... yes\n",
            "checking for sys/ioctl.h... yes\n",
            "checking for sys/socket.h... yes\n",
            "checking for _Bool... no\n",
            "checking for stdbool.h that conforms to C99... yes\n",
            "checking for GNU libc compatible malloc... yes\n",
            "checking for OpenMP flag of C++ compiler... -fopenmp\n",
            "checking for ptrdiff_t... yes\n",
            "checking for int16_t... yes\n",
            "checking for int32_t... yes\n",
            "checking for int64_t... yes\n",
            "checking for int8_t... yes\n",
            "checking for pid_t... yes\n",
            "checking for size_t... yes\n",
            "checking for ssize_t... yes\n",
            "checking for uint16_t... yes\n",
            "checking for uint32_t... yes\n",
            "checking for uint64_t... yes\n",
            "checking for uint8_t... yes\n",
            "checking for long double with more range or precision than double... yes\n",
            "checking for numa_node_of_cpu in -lnuma... yes\n",
            "checking for hwloc_topology_init in -lhwloc... yes\n",
            "checking for nvcc... /usr/local/cuda/bin/nvcc\n",
            "checking for nvprune... /usr/local/cuda/bin/nvprune\n",
            "checking for cuobjdump... /usr/local/cuda/bin/cuobjdump\n",
            "checking for a working CUDA installation... yes - v11.1\n",
            "checking for CUDA CXX standard support... C++17\n",
            "checking for valid CUDA architectures... found: 35 37 50 52 53 60 61 62 70 72 75 80 86\n",
            "checking which CUDA architectures to target... 70 75\n",
            "checking for valid requested CUDA architectures... yes\n",
            "checking for Pascal-style CUDA managed memory... yes\n",
            "checking for /dev/shm... yes\n",
            "checking if the compiler accepts '-march=native'... yes\n",
            "checking whether python executable path has been provided... no\n",
            "checking for python... /usr/local/bin/python\n",
            "checking whether /usr/local/bin/python as ctypesgen... yes\n",
            "checking whether docker executable path has been provided... no\n",
            "checking for docker... no\n",
            "checking for doxygen... no\n",
            "checking for perl... /usr/bin/perl\n",
            "configure: creating ./config.status\n",
            "config.status: creating config.mk\n",
            "config.status: creating Makefile\n",
            "config.status: creating src/Makefile\n",
            "config.status: creating python/Makefile\n",
            "config.status: creating share/bifrost.pc\n",
            "config.status: creating src/bifrost/config.h\n",
            "config.status: executing libtool commands\n",
            "\n",
            "\n",
            "configure: cuda: yes - v11.1 - 70 75\n",
            "configure: numa: yes\n",
            "configure: hwloc: yes\n",
            "configure: libvma: no\n",
            "configure: python bindings: yes\n",
            "configure: memory alignment: 4096\n",
            "configure: logging directory: /dev/shm/bifrost\n",
            "configure: options: native map_cache\n",
            "\n",
            "Bifrost is now ready to be compiled.  Please run 'make'\n",
            "\n",
            "make -C src all\n",
            "make[1]: Entering directory '/root/bifrost/src'\n",
            "Building C++ source file memory.cpp\n",
            "Building C++ source file affinity.cpp\n",
            "Building C++ source file testsuite.cpp\n",
            "Building C++ source file ring_impl.cpp\n",
            "Building C++ source file cuda.cpp\n",
            "Building C++ source file fileutils.cpp\n",
            "Building C++ source file ring.cpp\n",
            "Building C++ source file common.cpp\n",
            "Building C++ source file unpack.cpp\n",
            "Building C++ source file proclog.cpp\n",
            "Building C++ source file array.cpp\n",
            "Building C++ source file udp_transmit.cpp\n",
            "Building C++ source file address.cpp\n",
            "Building C++ source file quantize.cpp\n",
            "Building C++ source file udp_socket.cpp\n",
            "Building CUDA source file transpose.cu\n",
            "Building C++ source file udp_capture.cpp\n",
            "Building CUDA source file fft.cu\n",
            "Building CUDA source file fdmt.cu\n",
            "Building C++ source file trace.cpp\n",
            "Building CUDA source file romein_kernels.cu\n",
            "Building CUDA source file romein.cu\n",
            "Building CUDA source file gunpack.cu\n",
            "Building CUDA source file linalg_kernels.cu\n",
            "Building CUDA source file reduce.cu\n",
            "Building CUDA source file fir.cu\n",
            "Building CUDA source file linalg.cu\n",
            "Building CUDA source file guantize.cu\n",
            "Generating libbifrost.version\n",
            "Building JIT version of ArrayIndexer.cuh\n",
            "Building JIT version of Complex.hpp\n",
            "Building JIT version of ShapeIndexer.cuh\n",
            "Building JIT version of IndexArray.cuh\n",
            "Building JIT version of Vector.hpp\n",
            "Building JIT version of int_fastdiv.h\n",
            "Building C++ source file map.cpp\n",
            "Linking _cuda_device_link.o\n",
            "Linking libbifrost.so.0.10\n",
            "Successfully built libbifrost.so.0.10\n",
            "make[1]: Leaving directory '/root/bifrost/src'\n",
            "make -C python build\n",
            "make[1]: Entering directory '/root/bifrost/python'\n",
            "# Build the libbifrost wrapper\n",
            "/usr/local/bin/python -c 'from ctypesgen import main as ctypeswrap; ctypeswrap.main()' -lbifrost -I../src ../src/bifrost/config.h ../src/bifrost/ring.h ../src/bifrost/cuda.h ../src/bifrost/fdmt.h ../src/bifrost/transpose.h ../src/bifrost/testsuite.h ../src/bifrost/udp_capture.h ../src/bifrost/memory.h ../src/bifrost/udp_transmit.h ../src/bifrost/fft.h ../src/bifrost/unpack.h ../src/bifrost/udp_socket.h ../src/bifrost/affinity.h ../src/bifrost/address.h ../src/bifrost/map.h ../src/bifrost/proclog.h ../src/bifrost/linalg.h ../src/bifrost/array.h ../src/bifrost/common.h ../src/bifrost/quantize.h ../src/bifrost/fir.h ../src/bifrost/romein.h ../src/bifrost/reduce.h -o bifrost/libbifrost_generated.py\n",
            "# WAR for 'const char**' being generated as POINTER(POINTER(c_char)) instead of POINTER(c_char_p)\n",
            "/bin/sed -i.orig -e 's/POINTER(c_char)/c_char_p/g' bifrost/libbifrost_generated.py\n",
            "# WAR for a buggy WAR in ctypesgen that breaks type checking and auto-byref functionality\n",
            "/bin/sed -i.orig -e 's/def POINTER/def POINTER_not_used/' bifrost/libbifrost_generated.py\n",
            "# WAR for a buggy WAR in ctypesgen that breaks string buffer arguments (e.g., as in address.py)\n",
            "/bin/sed -i.orig -e 's/class String/String = c_char_p\\nclass String_not_used/' bifrost/libbifrost_generated.py\n",
            "/bin/sed -i.orig -e 's/String.from_param/String_not_used.from_param/g' bifrost/libbifrost_generated.py\n",
            "/bin/sed -i.orig -e 's/def ReturnString/ReturnString = c_char_p\\ndef ReturnString_not_used/' bifrost/libbifrost_generated.py\n",
            "/bin/sed -i.orig -e '/errcheck = ReturnString/s/^/#/' bifrost/libbifrost_generated.py\n",
            "/usr/local/bin/python setup.py build \n",
            "running build\n",
            "running build_py\n",
            "creating build\n",
            "creating build/lib\n",
            "creating build/lib/bifrost\n",
            "copying bifrost/units.py -> build/lib/bifrost\n",
            "copying bifrost/libbifrost.py -> build/lib/bifrost\n",
            "copying bifrost/transpose.py -> build/lib/bifrost\n",
            "copying bifrost/pipeline.py -> build/lib/bifrost\n",
            "copying bifrost/map.py -> build/lib/bifrost\n",
            "copying bifrost/memory.py -> build/lib/bifrost\n",
            "copying bifrost/unpack.py -> build/lib/bifrost\n",
            "copying bifrost/GPUArray.py -> build/lib/bifrost\n",
            "copying bifrost/DataType.py -> build/lib/bifrost\n",
            "copying bifrost/ring.py -> build/lib/bifrost\n",
            "copying bifrost/udp_socket.py -> build/lib/bifrost\n",
            "copying bifrost/libbifrost_generated.py -> build/lib/bifrost\n",
            "copying bifrost/dtype.py -> build/lib/bifrost\n",
            "copying bifrost/device.py -> build/lib/bifrost\n",
            "copying bifrost/udp_capture.py -> build/lib/bifrost\n",
            "copying bifrost/sigproc.py -> build/lib/bifrost\n",
            "copying bifrost/affinity.py -> build/lib/bifrost\n",
            "copying bifrost/ring2.py -> build/lib/bifrost\n",
            "copying bifrost/ndarray.py -> build/lib/bifrost\n",
            "copying bifrost/romein.py -> build/lib/bifrost\n",
            "copying bifrost/guppi_raw.py -> build/lib/bifrost\n",
            "copying bifrost/fir.py -> build/lib/bifrost\n",
            "copying bifrost/block.py -> build/lib/bifrost\n",
            "copying bifrost/udp_transmit.py -> build/lib/bifrost\n",
            "copying bifrost/reduce.py -> build/lib/bifrost\n",
            "copying bifrost/portaudio.py -> build/lib/bifrost\n",
            "copying bifrost/psrdada.py -> build/lib/bifrost\n",
            "copying bifrost/Space.py -> build/lib/bifrost\n",
            "copying bifrost/address.py -> build/lib/bifrost\n",
            "copying bifrost/sigproc2.py -> build/lib/bifrost\n",
            "copying bifrost/temp_storage.py -> build/lib/bifrost\n",
            "copying bifrost/linalg.py -> build/lib/bifrost\n",
            "copying bifrost/__init__.py -> build/lib/bifrost\n",
            "copying bifrost/header_standard.py -> build/lib/bifrost\n",
            "copying bifrost/fft.py -> build/lib/bifrost\n",
            "copying bifrost/quantize.py -> build/lib/bifrost\n",
            "copying bifrost/proclog.py -> build/lib/bifrost\n",
            "copying bifrost/fdmt.py -> build/lib/bifrost\n",
            "copying bifrost/core.py -> build/lib/bifrost\n",
            "copying bifrost/block_chainer.py -> build/lib/bifrost\n",
            "creating build/lib/bifrost/version\n",
            "copying bifrost/version/__main__.py -> build/lib/bifrost/version\n",
            "copying bifrost/version/__init__.py -> build/lib/bifrost/version\n",
            "creating build/lib/bifrost/blocks\n",
            "copying bifrost/blocks/wav.py -> build/lib/bifrost/blocks\n",
            "copying bifrost/blocks/transpose.py -> build/lib/bifrost/blocks\n",
            "copying bifrost/blocks/unpack.py -> build/lib/bifrost/blocks\n",
            "copying bifrost/blocks/accumulate.py -> build/lib/bifrost/blocks\n",
            "copying bifrost/blocks/detect.py -> build/lib/bifrost/blocks\n",
            "copying bifrost/blocks/sigproc.py -> build/lib/bifrost/blocks\n",
            "copying bifrost/blocks/convert_visibilities.py -> build/lib/bifrost/blocks\n",
            "copying bifrost/blocks/binary_io.py -> build/lib/bifrost/blocks\n",
            "copying bifrost/blocks/guppi_raw.py -> build/lib/bifrost/blocks\n",
            "copying bifrost/blocks/serialize.py -> build/lib/bifrost/blocks\n",
            "copying bifrost/blocks/audio.py -> build/lib/bifrost/blocks\n",
            "copying bifrost/blocks/reverse.py -> build/lib/bifrost/blocks\n",
            "copying bifrost/blocks/correlate.py -> build/lib/bifrost/blocks\n",
            "copying bifrost/blocks/reduce.py -> build/lib/bifrost/blocks\n",
            "copying bifrost/blocks/psrdada.py -> build/lib/bifrost/blocks\n",
            "copying bifrost/blocks/fftshift.py -> build/lib/bifrost/blocks\n",
            "copying bifrost/blocks/scrunch.py -> build/lib/bifrost/blocks\n",
            "copying bifrost/blocks/__init__.py -> build/lib/bifrost/blocks\n",
            "copying bifrost/blocks/fft.py -> build/lib/bifrost/blocks\n",
            "copying bifrost/blocks/copy.py -> build/lib/bifrost/blocks\n",
            "copying bifrost/blocks/print_header.py -> build/lib/bifrost/blocks\n",
            "copying bifrost/blocks/quantize.py -> build/lib/bifrost/blocks\n",
            "copying bifrost/blocks/fdmt.py -> build/lib/bifrost/blocks\n",
            "creating build/lib/bifrost/views\n",
            "copying bifrost/views/basic_views.py -> build/lib/bifrost/views\n",
            "copying bifrost/views/__init__.py -> build/lib/bifrost/views\n",
            "creating build/lib/bifrost/telemetry\n",
            "copying bifrost/telemetry/__main__.py -> build/lib/bifrost/telemetry\n",
            "copying bifrost/telemetry/__init__.py -> build/lib/bifrost/telemetry\n",
            "running build_scripts\n",
            "creating build/scripts-3.7\n",
            "copying and adjusting ../tools/like_top.py -> build/scripts-3.7\n",
            "copying and adjusting ../tools/like_bmon.py -> build/scripts-3.7\n",
            "copying and adjusting ../tools/getsiblings.py -> build/scripts-3.7\n",
            "copying and adjusting ../tools/setirq.py -> build/scripts-3.7\n",
            "copying and adjusting ../tools/getirq.py -> build/scripts-3.7\n",
            "copying and adjusting ../tools/like_pmap.py -> build/scripts-3.7\n",
            "copying and adjusting ../tools/like_ps.py -> build/scripts-3.7\n",
            "copying and adjusting ../tools/pipeline2dot.py -> build/scripts-3.7\n",
            "changing mode of build/scripts-3.7/like_top.py from 644 to 755\n",
            "changing mode of build/scripts-3.7/like_bmon.py from 644 to 755\n",
            "changing mode of build/scripts-3.7/getsiblings.py from 644 to 755\n",
            "changing mode of build/scripts-3.7/setirq.py from 644 to 755\n",
            "changing mode of build/scripts-3.7/getirq.py from 644 to 755\n",
            "changing mode of build/scripts-3.7/like_pmap.py from 644 to 755\n",
            "changing mode of build/scripts-3.7/like_ps.py from 644 to 755\n",
            "changing mode of build/scripts-3.7/pipeline2dot.py from 644 to 755\n",
            "make[1]: Leaving directory '/root/bifrost/python'\n",
            "mkdir -p /usr/local/lib\n",
            "cp lib/libbifrost.so.0.10 /usr/local/lib/libbifrost.so.0.10\n",
            "ln -f -s libbifrost.so.0.10 /usr/local/lib/libbifrost.so.0\n",
            "ln -f -s libbifrost.so.0.10 /usr/local/lib/libbifrost.so\n",
            "mkdir -p /usr/local/include/bifrost\n",
            "cp src/bifrost/config.h src/bifrost/ring.h src/bifrost/cuda.h src/bifrost/fdmt.h src/bifrost/transpose.h src/bifrost/testsuite.h src/bifrost/udp_capture.h src/bifrost/memory.h src/bifrost/udp_transmit.h src/bifrost/fft.h src/bifrost/unpack.h src/bifrost/udp_socket.h src/bifrost/affinity.h src/bifrost/address.h src/bifrost/map.h src/bifrost/proclog.h src/bifrost/linalg.h src/bifrost/array.h src/bifrost/common.h src/bifrost/quantize.h src/bifrost/fir.h src/bifrost/romein.h src/bifrost/reduce.h /usr/local/include/bifrost/\n",
            "mkdir -p /usr/local/share/bifrost\n",
            "cp share/bifrost.m4 /usr/local/share/bifrost/\n",
            "mkdir -p /usr/local/lib/pkgconfig\n",
            "cp share/bifrost.pc /usr/local/lib/pkgconfig/\n",
            "make -C python install\n",
            "make[1]: Entering directory '/root/bifrost/python'\n",
            "/usr/local/bin/python setup.py build \n",
            "running build\n",
            "running build_py\n",
            "running build_scripts\n",
            "Processing /root/bifrost/python\n",
            "Requirement already satisfied: numpy>=1.8.1 in /usr/local/lib/python3.7/dist-packages (from bifrost==0.10.0) (1.21.6)\n",
            "Requirement already satisfied: contextlib2>=0.4.0 in /usr/local/lib/python3.7/dist-packages (from bifrost==0.10.0) (0.5.5)\n",
            "Requirement already satisfied: pint>=0.7.0 in /usr/local/lib/python3.7/dist-packages (from bifrost==0.10.0) (0.18)\n",
            "Requirement already satisfied: graphviz>=0.5.0 in /usr/local/lib/python3.7/dist-packages (from bifrost==0.10.0) (0.10.1)\n",
            "Collecting ctypesgen==1.0.2\n",
            "  Downloading ctypesgen-1.0.2-py2.py3-none-any.whl (476 kB)\n",
            "Requirement already satisfied: matplotlib in /usr/local/lib/python3.7/dist-packages (from bifrost==0.10.0) (3.2.2)\n",
            "Requirement already satisfied: packaging in /usr/local/lib/python3.7/dist-packages (from pint>=0.7.0->bifrost==0.10.0) (21.3)\n",
            "Requirement already satisfied: importlib-metadata in /usr/local/lib/python3.7/dist-packages (from pint>=0.7.0->bifrost==0.10.0) (4.11.3)\n",
            "Requirement already satisfied: zipp>=0.5 in /usr/local/lib/python3.7/dist-packages (from importlib-metadata->pint>=0.7.0->bifrost==0.10.0) (3.8.0)\n",
            "Requirement already satisfied: typing-extensions>=3.6.4 in /usr/local/lib/python3.7/dist-packages (from importlib-metadata->pint>=0.7.0->bifrost==0.10.0) (4.2.0)\n",
            "Requirement already satisfied: cycler>=0.10 in /usr/local/lib/python3.7/dist-packages (from matplotlib->bifrost==0.10.0) (0.11.0)\n",
            "Requirement already satisfied: kiwisolver>=1.0.1 in /usr/local/lib/python3.7/dist-packages (from matplotlib->bifrost==0.10.0) (1.4.2)\n",
            "Requirement already satisfied: python-dateutil>=2.1 in /usr/local/lib/python3.7/dist-packages (from matplotlib->bifrost==0.10.0) (2.8.2)\n",
            "Requirement already satisfied: pyparsing!=2.0.4,!=2.1.2,!=2.1.6,>=2.0.1 in /usr/local/lib/python3.7/dist-packages (from matplotlib->bifrost==0.10.0) (3.0.8)\n",
            "Requirement already satisfied: six>=1.5 in /usr/local/lib/python3.7/dist-packages (from python-dateutil>=2.1->matplotlib->bifrost==0.10.0) (1.15.0)\n",
            "Building wheels for collected packages: bifrost\n",
            "  Building wheel for bifrost (setup.py): started\n",
            "  Building wheel for bifrost (setup.py): finished with status 'done'\n",
            "  Created wheel for bifrost: filename=bifrost-0.10.0-py3-none-any.whl size=183794 sha256=bf9b54ecd7aabd06caf2e06f84c2dcaac3124374bb596274beb826e27529cd89\n",
            "  Stored in directory: /tmp/pip-ephem-wheel-cache-ghcz0avk/wheels/35/b7/11/a795b9aa4b1dfc3b2091f793f70becd9333a0b79216d208fd5\n",
            "Successfully built bifrost\n",
            "Installing collected packages: ctypesgen, bifrost\n",
            "  Attempting uninstall: ctypesgen\n",
            "    Found existing installation: ctypesgen 1.0.3.dev98+g2120dbf\n",
            "    Uninstalling ctypesgen-1.0.3.dev98+g2120dbf:\n",
            "      Successfully uninstalled ctypesgen-1.0.3.dev98+g2120dbf\n",
            "Successfully installed bifrost-0.10.0 ctypesgen-1.0.2\n",
            "*************************************************************************\n",
            "By default Bifrost installs with basic Python telemetry enabled in order\n",
            "to help inform how the software is used for future development.  You can\n",
            "opt out of telemetry collection using:\n",
            "python -m bifrost.telemetry --disable\n",
            "*************************************************************************\n",
            "\n",
            "If you have trouble importing Bifrost from Python you may need\n",
            "to set LD_LIBRARY_PATH to /usr/local/lib or have your\n",
            "system administrator add this directory to '/etc/ld.so.conf'.\n",
            "\n",
            "make[1]: Leaving directory '/root/bifrost/python'\n",
            "Libraries have been installed in:\n",
            "  /usr/local/lib\n",
            "\n",
            "If you ever happen to want to link against installed libraries\n",
            "in a given directory, LIBDIR, you must either use libtool, and\n",
            "specify the full pathname of the library, or use the '-LLIBDIR'\n",
            "flag during linking and do at least one of the following:\n",
            "  - add LIBDIR to the 'LD_LIBRARY_PATH' environment variable\n",
            "    during execution\n",
            "  - add LIBDIR to the 'LD_RUN_PATH' environment variable\n",
            "    during linking\n",
            "  - use the '-Wl,-rpath -Wl,LIBDIR' linker flag\n",
            "  - have your system administrator add LIBDIR to '/etc/ld.so.conf'\n",
            "\n",
            "See any operating system documentation about shared libraries for\n",
            "more information, such as the ld(1) and ld.so(8) manual pages.\n"
          ]
        },
        {
          "output_type": "stream",
          "name": "stderr",
          "text": [
            "debconf: unable to initialize frontend: Dialog\n",
            "debconf: (No usable dialog-like program is installed, so the dialog based frontend cannot be used. at /usr/share/perl5/Debconf/FrontEnd/Dialog.pm line 76, <> line 1.)\n",
            "debconf: falling back to frontend: Readline\n",
            "debconf: unable to initialize frontend: Readline\n",
            "debconf: (This frontend requires a controlling tty.)\n",
            "debconf: falling back to frontend: Teletype\n",
            "dpkg-preconfigure: unable to re-open stdin: \n",
            "Cloning into '/root/bifrost'...\n",
            "./configure: line 7420: /usr/bin/file: No such file or directory\n",
            "configure: WARNING: doxygen not found - will not generate any doxygen documentation\n",
            "configure: WARNING: This version of cuFFT may have unexpected behavior for complex-to-real transforms\n",
            "transpose.cu: In function ‘BFstatus transpose_simple(const BFarray*, const \n",
            "   BFarray*, const int*)’:\n",
            "transpose.cu:319:32: warning: ‘axes_inverted’ may be used uninitialized in \n",
            "   this function [-Wmaybe-uninitialized]\n",
            "  func_str += hex_digits[axes[0]];\n",
            "                          ~~~~~~^\n",
            "INFO: Status: Preprocessing /tmp/tmp1a8a9abi.h\n",
            "INFO: Status: gcc -E -U __GNUC__ -dD -I\"../src\" \"-D__extension__=\" \"-D__const=const\" \"-D__asm__(x)=\" \"-D__asm(x)=\" \"-DCTYPESGEN=1\" \"/tmp/tmp1a8a9abi.h\"\n",
            "INFO: Status: Parsing /tmp/tmp1a8a9abi.h\n",
            "INFO: Status: Processing description list.\n",
            "WARNING: Could not load library \"bifrost\". Okay, I'll try to load it at runtime instead. \n",
            "INFO: Status: Writing to bifrost/libbifrost_generated.py.\n",
            "INFO: Status: Wrapping complete.\n",
            "  DEPRECATION: A future pip version will change local packages to be built in-place without first copying to a temporary directory. We recommend you use --use-feature=in-tree-build to test your packages with this new behavior before it becomes the default.\n",
            "   pip 21.3 will remove support for this functionality. You can find discussion regarding this at https://github.com/pypa/pip/issues/7555.\n"
          ]
        }
      ]
    },
    {
      "cell_type": "code",
      "execution_count": 2,
      "id": "proud-container",
      "metadata": {
        "id": "proud-container"
      },
      "outputs": [],
      "source": [
        "import bifrost"
      ]
    },
    {
      "cell_type": "markdown",
      "id": "rental-equipment",
      "metadata": {
        "id": "rental-equipment"
      },
      "source": [
        "This loads the core parts of Bifrost and several useful functions.  The main way of interacting with Bifrost is through the `bifrost.ndarray`, a sub-class of `numpy.ndarray`.  You can create an empty array with:"
      ]
    },
    {
      "cell_type": "code",
      "execution_count": 3,
      "id": "subject-quebec",
      "metadata": {
        "id": "subject-quebec",
        "outputId": "0649a54f-c2cb-4279-868d-ed95f771e6e2",
        "colab": {
          "base_uri": "https://localhost:8080/"
        }
      },
      "outputs": [
        {
          "output_type": "stream",
          "name": "stdout",
          "text": [
            "<class 'bifrost.ndarray.ndarray'> float32 (2, 4096) system\n",
            "[[9.7624806e-36 0.0000000e+00 1.5581004e-38 ... 1.3563156e-19\n",
            "  2.8297670e+20 2.6373977e+23]\n",
            " [2.0704474e-19 7.1220526e+28 1.4251251e-13 ... 7.6813502e+31\n",
            "  1.8970232e+31 7.2250739e+28]]\n"
          ]
        }
      ],
      "source": [
        "data = bifrost.ndarray(shape=(2,4096), dtype='f32', space='system')\n",
        "print(type(data), data.dtype, data.shape, data.bf.space)\n",
        "print(data)"
      ]
    },
    {
      "cell_type": "markdown",
      "id": "eleven-omaha",
      "metadata": {
        "id": "eleven-omaha"
      },
      "source": [
        "Note that bifrost defines datatypes differently to numpy:\n",
        "```\n",
        "f32: 32-bit float (equivalent to numpy float32)\n",
        "cf32: complex 32-bit data (equivalent to numpy complex64)\n",
        "i[8,16,32]: signed integer datatypes of 8, 16 and 32-bit width\n",
        "u[8,16,32]: unsigned integer datatypes of 8, 16 and 32-bit width\n",
        "ci[4,8,16,32]: complex 4-bit per sample, 8-bit, 16-bit and 32-bit datatypes\n",
        "```\n",
        "\n",
        "The `ci4`, `ci8` and `ci16` datatypes do not have an equivalent numpy type, but are commonly encountered in radio astronomy.\n",
        "\n",
        "You can also use the `bifrost.ndarray` to wrap existing numpy arrays:"
      ]
    },
    {
      "cell_type": "code",
      "execution_count": 4,
      "id": "lightweight-madrid",
      "metadata": {
        "id": "lightweight-madrid",
        "outputId": "33842f75-4a1c-4cb5-c82b-0e64eb3c7cf9",
        "colab": {
          "base_uri": "https://localhost:8080/"
        }
      },
      "outputs": [
        {
          "output_type": "stream",
          "name": "stdout",
          "text": [
            "<class 'bifrost.ndarray.ndarray'> float64 (2, 4096) system\n",
            "r: [[ 0.14467437 -0.9858471  -0.29228502 ...  1.52117552  0.11308428\n",
            "   1.18072678]\n",
            " [-1.0376523  -0.79953079  0.29897504 ... -0.09453896 -0.07558208\n",
            "  -0.11985499]]\n",
            "data: [[ 0.14467437 -0.9858471  -0.29228502 ...  1.52117552  0.11308428\n",
            "   1.18072678]\n",
            " [-1.0376523  -0.79953079  0.29897504 ... -0.09453896 -0.07558208\n",
            "  -0.11985499]]\n"
          ]
        }
      ],
      "source": [
        "import numpy\n",
        "r = numpy.random.randn(2, 4096)\n",
        "data = bifrost.ndarray(r)\n",
        "print(type(data), data.dtype, data.shape, data.bf.space)\n",
        "print('r:', r)\n",
        "print('data:', data)"
      ]
    },
    {
      "cell_type": "markdown",
      "id": "earlier-latino",
      "metadata": {
        "id": "earlier-latino"
      },
      "source": [
        "Since `bifrost.ndarray`s are derived from numpy arrays they can do many (but not all) of the same things:"
      ]
    },
    {
      "cell_type": "code",
      "execution_count": 5,
      "id": "regional-darkness",
      "metadata": {
        "id": "regional-darkness",
        "outputId": "f0dd5e3a-e301-4276-abd6-c033ee3db68d",
        "colab": {
          "base_uri": "https://localhost:8080/"
        }
      },
      "outputs": [
        {
          "output_type": "stream",
          "name": "stdout",
          "text": [
            "data += 2.0: [[2.14467437 1.0141529  1.70771498 ... 3.52117552 2.11308428 3.18072678]\n",
            " [0.9623477  1.20046921 2.29897504 ... 1.90546104 1.92441792 1.88014501]]\n",
            "data[0,:] = 55: [[55.         55.         55.         ... 55.         55.\n",
            "  55.        ]\n",
            " [ 0.9623477   1.20046921  2.29897504 ...  1.90546104  1.92441792\n",
            "   1.88014501]]\n"
          ]
        }
      ],
      "source": [
        "data += 2.0\n",
        "print('data += 2.0:', data)\n",
        "data[0,:] = 55\n",
        "print('data[0,:] = 55:', data)"
      ]
    },
    {
      "cell_type": "code",
      "execution_count": 6,
      "id": "artificial-spider",
      "metadata": {
        "id": "artificial-spider",
        "outputId": "68f62d93-399e-4900-bb3e-89786025ef00",
        "colab": {
          "base_uri": "https://localhost:8080/"
        }
      },
      "outputs": [
        {
          "output_type": "stream",
          "name": "stdout",
          "text": [
            "data[:,[1,3,5,7]] = 10: [[55.         55.         55.         ... 55.         55.\n",
            "  55.        ]\n",
            " [ 0.9623477   1.20046921  2.29897504 ...  1.90546104  1.92441792\n",
            "   1.88014501]]\n"
          ]
        }
      ],
      "source": [
        "data[:,[1,3,5,7]] = 10\n",
        "print('data[:,[1,3,5,7]] = 10:', data)"
      ]
    },
    {
      "cell_type": "markdown",
      "id": "thirty-stretch",
      "metadata": {
        "id": "thirty-stretch"
      },
      "source": [
        "You can also use `bifrost.ndarray`s with [numba](https://numba.pydata.org/):"
      ]
    },
    {
      "cell_type": "code",
      "execution_count": 7,
      "id": "smaller-organizer",
      "metadata": {
        "id": "smaller-organizer",
        "outputId": "04a972d2-f24d-43cd-b658-e92085f32071",
        "colab": {
          "base_uri": "https://localhost:8080/"
        }
      },
      "outputs": [
        {
          "output_type": "stream",
          "name": "stdout",
          "text": [
            "<class 'bifrost.ndarray.ndarray'> [[65.         65.         65.         ... 65.         65.\n",
            "  65.        ]\n",
            " [10.9623477  11.20046921 12.29897504 ... 11.90546104 11.92441792\n",
            "  11.88014501]]\n"
          ]
        }
      ],
      "source": [
        "from numba import jit\n",
        "\n",
        "@jit(nopython=True)\n",
        "def compute(x):\n",
        "    for i in range(len(x)):\n",
        "        x[i] = x[i] + 10\n",
        "\n",
        "compute(data)\n",
        "print(type(data), data)\n",
        "\n"
      ]
    },
    {
      "cell_type": "markdown",
      "id": "informative-brush",
      "metadata": {
        "id": "informative-brush"
      },
      "source": [
        "### Arrays on the CPU and GPU"
      ]
    },
    {
      "cell_type": "markdown",
      "id": "acute-efficiency",
      "metadata": {
        "id": "acute-efficiency"
      },
      "source": [
        "Unlike numpy arrays `bifrost.ndarray` are \"space aware\", meaning that they can exist in different memory spaces.  What we have created so far is in system memory.  `bifrost.ndarray`s can also exist in \"cuda_host\" (pinned) memory and \"cuda\" (GPU) memory:"
      ]
    },
    {
      "cell_type": "code",
      "execution_count": 8,
      "id": "changing-enhancement",
      "metadata": {
        "id": "changing-enhancement",
        "outputId": "f9d0a10e-490a-45b8-e286-7f22657ee8a9",
        "colab": {
          "base_uri": "https://localhost:8080/"
        }
      },
      "outputs": [
        {
          "output_type": "stream",
          "name": "stdout",
          "text": [
            "<class 'bifrost.ndarray.ndarray'> float32 (2, 4096) cuda_host\n",
            "<class 'bifrost.ndarray.ndarray'> float32 (2, 4096) cuda\n"
          ]
        }
      ],
      "source": [
        "data2 = bifrost.ndarray(shape=(2,4096), dtype='f32', space='cuda_host')\n",
        "data3 = bifrost.ndarray(shape=(2,4096), dtype='f32', space='cuda')\n",
        "print(type(data2), data2.dtype, data2.shape, data2.bf.space)\n",
        "print(type(data3), data3.dtype, data3.shape, data3.bf.space)"
      ]
    },
    {
      "cell_type": "markdown",
      "id": "million-guess",
      "metadata": {
        "id": "million-guess"
      },
      "source": [
        "To move between the different spaces the `bifrost.ndarray` class provides a `copy` method:"
      ]
    },
    {
      "cell_type": "code",
      "execution_count": 9,
      "id": "talented-lending",
      "metadata": {
        "id": "talented-lending",
        "outputId": "28f657a6-aa24-4c82-d3e2-9192d99b330f",
        "colab": {
          "base_uri": "https://localhost:8080/"
        }
      },
      "outputs": [
        {
          "output_type": "stream",
          "name": "stdout",
          "text": [
            "<class 'bifrost.ndarray.ndarray'> float64 (2, 4096) cuda\n"
          ]
        }
      ],
      "source": [
        "data4 = data.copy(space='cuda')\n",
        "print(type(data4), data4.dtype, data4.shape, data4.bf.space)"
      ]
    },
    {
      "cell_type": "markdown",
      "id": "stable-instrumentation",
      "metadata": {
        "id": "stable-instrumentation"
      },
      "source": [
        "Once on the GPU you can take advantage of Bifrost's GPU-based functions, like `bifrost.map`:"
      ]
    },
    {
      "cell_type": "code",
      "execution_count": 10,
      "id": "prospective-financing",
      "metadata": {
        "id": "prospective-financing",
        "outputId": "cccab24f-f1e0-489a-9189-5e468fb5d38a",
        "colab": {
          "base_uri": "https://localhost:8080/"
        }
      },
      "outputs": [
        {
          "output_type": "stream",
          "name": "stdout",
          "text": [
            "data4/data = data*10/data = 10: [[10. 10. 10. ... 10. 10. 10.]\n",
            " [10. 10. 10. ... 10. 10. 10.]]\n"
          ]
        }
      ],
      "source": [
        "bifrost.map(\"a(i,j) *= 10\",\n",
        "            {'a': data4},\n",
        "            axis_names=('i', 'j'),\n",
        "            shape=data4.shape)\n",
        "data4 = data4.copy(space='system')\n",
        "print('data4/data = data*10/data = 10:', data4/data)"
      ]
    },
    {
      "cell_type": "markdown",
      "id": "amateur-bridges",
      "metadata": {
        "id": "amateur-bridges"
      },
      "source": [
        "The `bifrost.map` call here compiles and runs a CUDA kernel that does an element-wise multiplication by ten.  In order to view the results of this kernel call we need to copy the memory back to the \"system\" memory space.  In the future we hope to support a \"cuda_managed\" space to make this easier."
      ]
    },
    {
      "cell_type": "markdown",
      "id": "vocational-archives",
      "metadata": {
        "id": "vocational-archives"
      },
      "source": [
        "`bifrost.map` is an example of a function that does not require any additional setup to run. This code is converted into a CUDA kernel at runtime, using [NVRTC](https://docs.nvidia.com/cuda/nvrtc/index.html). \n",
        "\n",
        "For some Bifrost functions, like `bifrost.fft.Fft`, some setup is required so that the function knows how to run. To show the use of the Bifrost FFT, let us first make some example data on the GPU, using `bf.map`:"
      ]
    },
    {
      "cell_type": "code",
      "execution_count": 11,
      "id": "restricted-carrier",
      "metadata": {
        "id": "restricted-carrier",
        "outputId": "dca9987c-438d-45e9-bdf8-2850f285bf56",
        "colab": {
          "base_uri": "https://localhost:8080/",
          "height": 297
        }
      },
      "outputs": [
        {
          "output_type": "execute_result",
          "data": {
            "text/plain": [
              "<matplotlib.legend.Legend at 0x7efe04a81590>"
            ]
          },
          "metadata": {},
          "execution_count": 11
        },
        {
          "output_type": "display_data",
          "data": {
            "text/plain": [
              "<Figure size 432x288 with 1 Axes>"
            ],
            "image/png": "[encoded data removed]"
          },
          "metadata": {
            "needs_background": "light"
          }
        }
      ],
      "source": [
        "data = bifrost.ndarray(shape=(16, 4096), dtype='cf32', space='cuda')\n",
        "bifrost.map(\"a(i,j) = exp(Complex<float>(0.0, 2*3.14*i*j/4096))\",\n",
        "            {'a': data},\n",
        "            axis_names=('i', 'j'),\n",
        "            shape=data.shape)\n",
        "data2 = data.copy(space='system')\n",
        "\n",
        "import pylab\n",
        "pylab.plot(data2[0,:].real, label='Re0')\n",
        "#pylab.plot(data2[0,:].imag, label='Im0')\n",
        "pylab.plot(data2[2,:].real, label='Re2')\n",
        "#pylab.plot(data2[2,:].imag, label='Im2')\n",
        "pylab.plot(data2[5,:].real, label='Re5')\n",
        "#pylab.plot(data2[5,:].imag, label='Im5')\n",
        "pylab.xlabel('Time')\n",
        "pylab.ylabel('Value')\n",
        "pylab.legend(loc=0)"
      ]
    },
    {
      "cell_type": "markdown",
      "id": "soviet-conference",
      "metadata": {
        "id": "soviet-conference"
      },
      "source": [
        "Now run the FFT and plot the results. The FFT is initialised using its `.init` method, and then executed using its `.execute` method.  An output data array also needs to be pre-allocated :"
      ]
    },
    {
      "cell_type": "code",
      "execution_count": 12,
      "id": "moral-worship",
      "metadata": {
        "id": "moral-worship",
        "outputId": "eef0a988-3e35-4e16-d019-e89f68342888",
        "colab": {
          "base_uri": "https://localhost:8080/",
          "height": 297
        }
      },
      "outputs": [
        {
          "output_type": "execute_result",
          "data": {
            "text/plain": [
              "<matplotlib.legend.Legend at 0x7efe05ef4590>"
            ]
          },
          "metadata": {},
          "execution_count": 12
        },
        {
          "output_type": "display_data",
          "data": {
            "text/plain": [
              "<Figure size 432x288 with 1 Axes>"
            ],
            "image/png": "[encoded data removed]"
          },
          "metadata": {
            "needs_background": "light"
          }
        }
      ],
      "source": [
        "fdata = bifrost.ndarray(shape=data.shape, dtype='cf32', space='cuda')\n",
        "f = bifrost.fft.Fft()\n",
        "f.init(data, fdata, axes=1, apply_fftshift=True)\n",
        "f.execute(data, fdata)\n",
        "fdata2 = fdata.copy(space='system')\n",
        "ffreqs = numpy.fft.fftfreq(fdata2.shape[1], d=1/4096.)\n",
        "ffreqs = numpy.fft.fftshift(ffreqs)\n",
        "\n",
        "pylab.semilogy(ffreqs, numpy.abs(fdata2[0,:])**2, label='0')\n",
        "pylab.semilogy(ffreqs, numpy.abs(fdata2[2,:])**2, label='2')\n",
        "pylab.semilogy(ffreqs, numpy.abs(fdata2[5,:])**2, label='5')\n",
        "pylab.xlabel('Frequency')\n",
        "pylab.ylabel('Power')\n",
        "pylab.xlim(-10, 10)\n",
        "pylab.legend(loc=0)"
      ]
    },
    {
      "cell_type": "code",
      "execution_count": null,
      "id": "geological-occasions",
      "metadata": {
        "id": "geological-occasions"
      },
      "outputs": [],
      "source": [
        ""
      ]
    }
  ],
  "metadata": {
    "kernelspec": {
      "display_name": "Python 3",
      "language": "python",
      "name": "python3"
    },
    "language_info": {
      "codemirror_mode": {
        "name": "ipython",
        "version": 3
      },
      "file_extension": ".py",
      "mimetype": "text/x-python",
      "name": "python",
      "nbconvert_exporter": "python",
      "pygments_lexer": "ipython3",
      "version": "3.7.6"
    },
    "colab": {
      "name": "00_getting_started.ipynb",
      "provenance": []
    },
    "accelerator": "GPU"
  },
  "nbformat": 4,
  "nbformat_minor": 5
}