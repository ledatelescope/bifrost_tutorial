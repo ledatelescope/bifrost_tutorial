{
  "cells": [
    {
      "cell_type": "markdown",
      "id": "1dfd7ec3",
      "metadata": {
        "id": "1dfd7ec3"
      },
      "source": [
        "# Getting started with Bifrost\n",
        "\n",
        "Once Bifrost is installed you can load the Python API with:"
      ]
    },
    {
      "cell_type": "code",
      "source": [
        "%%bash\n",
        "# @title Build and install\n",
        "export LD_LIBRARY_PATH=/usr/local/lib:${LD_LIBRARY_PATH}\n",
        "if python -c 'import bifrost' 2>/dev/null; then\n",
        "    echo \"Great, bifrost import seems to work.\"\n",
        "    exit 0\n",
        "else\n",
        "    if python -c 'import google.colab' 2>/dev/null; then\n",
        "        echo \"No bifrost but we're on Google Colab, so will try to install.\"\n",
        "    else\n",
        "        echo \"Sorry, please use a runtime with access to Bifrost.\"\n",
        "        exit 1\n",
        "    fi\n",
        "fi\n",
        "sudo apt-get -qq install exuberant-ctags libopenblas-dev software-properties-common build-essential\n",
        "pip install -q contextlib2 pint simplejson scipy git+https://github.com/ctypesgen/ctypesgen.git\n",
        "if [ ! -d ~/bifrost/.git ]; then\n",
        "  git clone --branch autoconf https://github.com/ledatelescope/bifrost ~/bifrost\n",
        "fi\n",
        "cd ~/bifrost\n",
        "./configure && make -j all && sudo make install"
      ],
      "metadata": {
        "id": "S-IQgISobCvU"
      },
      "id": "S-IQgISobCvU",
      "execution_count": null,
      "outputs": []
    },
    {
      "cell_type": "code",
      "execution_count": 9,
      "id": "proud-container",
      "metadata": {
        "id": "proud-container"
      },
      "outputs": [],
      "source": [
        "import bifrost"
      ]
    },
    {
      "cell_type": "markdown",
      "id": "rental-equipment",
      "metadata": {
        "id": "rental-equipment"
      },
      "source": [
        "This loads the core parts of Bifrost and several useful functions.  The main way of interacting with Bifrost is through the `bifrost.ndarray`, a sub-class of `numpy.ndarray`.  You can create an empty array with:"
      ]
    },
    {
      "cell_type": "code",
      "execution_count": 11,
      "id": "subject-quebec",
      "metadata": {
        "id": "subject-quebec",
        "outputId": "ecc41d4f-726a-4c2e-f009-a32825e32838",
        "colab": {
          "base_uri": "https://localhost:8080/"
        }
      },
      "outputs": [
        {
          "output_type": "stream",
          "name": "stdout",
          "text": [
            "<class 'bifrost.ndarray.ndarray'> float32 (2, 4096) system\n",
            "[[ 0.0000000e+00  0.0000000e+00 -1.8241284e+25 ...  1.5554413e-43\n",
            "   1.5554413e-43  1.4012985e-43]\n",
            " [ 4.4841551e-44  1.1210388e-43  1.6955711e-43 ...  0.0000000e+00\n",
            "   0.0000000e+00  0.0000000e+00]]\n"
          ]
        }
      ],
      "source": [
        "data = bifrost.ndarray(shape=(2,4096), dtype='f32', space='system')\n",
        "print(type(data), data.dtype, data.shape, data.bf.space)\n",
        "print(data)"
      ]
    },
    {
      "cell_type": "markdown",
      "id": "eleven-omaha",
      "metadata": {
        "id": "eleven-omaha"
      },
      "source": [
        "Note that bifrost defines datatypes differently to numpy:\n",
        "```\n",
        "f32: 32-bit float (equivalent to numpy float32)\n",
        "cf32: complex 32-bit data (equivalent to numpy complex64)\n",
        "i[8,16,32]: signed integer datatypes of 8, 16 and 32-bit width\n",
        "u[8,16,32]: unsigned integer datatypes of 8, 16 and 32-bit width\n",
        "ci[4,8,16,32]: complex 4-bit per sample, 8-bit, 16-bit and 32-bit datatypes\n",
        "```\n",
        "\n",
        "The `ci4`, `ci8` and `ci16` datatypes do not have an equivalent numpy type, but are commonly encountered in radio astronomy.\n",
        "\n",
        "You can also use the `bifrost.ndarray` to wrap existing numpy arrays:"
      ]
    },
    {
      "cell_type": "code",
      "execution_count": 12,
      "id": "lightweight-madrid",
      "metadata": {
        "id": "lightweight-madrid",
        "outputId": "b504c202-8395-4365-ce14-7bebf478dfe3",
        "colab": {
          "base_uri": "https://localhost:8080/"
        }
      },
      "outputs": [
        {
          "output_type": "stream",
          "name": "stdout",
          "text": [
            "<class 'bifrost.ndarray.ndarray'> float64 (2, 4096) system\n",
            "r: [[ 0.17851579 -0.9965826   0.39835836 ...  0.06416343  0.7667563\n",
            "  -0.53529951]\n",
            " [ 1.30749412 -1.05996732  1.20367584 ...  0.29484387 -1.37285379\n",
            "  -0.45451832]]\n",
            "data: [[ 0.17851579 -0.9965826   0.39835836 ...  0.06416343  0.7667563\n",
            "  -0.53529951]\n",
            " [ 1.30749412 -1.05996732  1.20367584 ...  0.29484387 -1.37285379\n",
            "  -0.45451832]]\n"
          ]
        }
      ],
      "source": [
        "import numpy\n",
        "r = numpy.random.randn(2, 4096)\n",
        "data = bifrost.ndarray(r)\n",
        "print(type(data), data.dtype, data.shape, data.bf.space)\n",
        "print('r:', r)\n",
        "print('data:', data)"
      ]
    },
    {
      "cell_type": "markdown",
      "id": "earlier-latino",
      "metadata": {
        "id": "earlier-latino"
      },
      "source": [
        "Since `bifrost.ndarray`s are derived from numpy arrays they can do many (but not all) of the same things:"
      ]
    },
    {
      "cell_type": "code",
      "execution_count": 13,
      "id": "regional-darkness",
      "metadata": {
        "id": "regional-darkness",
        "outputId": "729d29ad-1a50-4e47-91df-bf38c5be5348",
        "colab": {
          "base_uri": "https://localhost:8080/"
        }
      },
      "outputs": [
        {
          "output_type": "stream",
          "name": "stdout",
          "text": [
            "data += 2.0: [[2.17851579 1.0034174  2.39835836 ... 2.06416343 2.7667563  1.46470049]\n",
            " [3.30749412 0.94003268 3.20367584 ... 2.29484387 0.62714621 1.54548168]]\n",
            "data[0,:] = 55: [[55.         55.         55.         ... 55.         55.\n",
            "  55.        ]\n",
            " [ 3.30749412  0.94003268  3.20367584 ...  2.29484387  0.62714621\n",
            "   1.54548168]]\n"
          ]
        }
      ],
      "source": [
        "data += 2.0\n",
        "print('data += 2.0:', data)\n",
        "data[0,:] = 55\n",
        "print('data[0,:] = 55:', data)"
      ]
    },
    {
      "cell_type": "code",
      "execution_count": 14,
      "id": "artificial-spider",
      "metadata": {
        "id": "artificial-spider",
        "outputId": "03abaeb3-6e01-4b4c-f1e8-20caa413366b",
        "colab": {
          "base_uri": "https://localhost:8080/"
        }
      },
      "outputs": [
        {
          "output_type": "stream",
          "name": "stdout",
          "text": [
            "data[:,[1,3,5,7]] = 10: [[55.         55.         55.         ... 55.         55.\n",
            "  55.        ]\n",
            " [ 3.30749412  0.94003268  3.20367584 ...  2.29484387  0.62714621\n",
            "   1.54548168]]\n"
          ]
        }
      ],
      "source": [
        "data[:,[1,3,5,7]] = 10\n",
        "print('data[:,[1,3,5,7]] = 10:', data)"
      ]
    },
    {
      "cell_type": "markdown",
      "id": "thirty-stretch",
      "metadata": {
        "id": "thirty-stretch"
      },
      "source": [
        "You can also use `bifrost.ndarray`s with [numba](https://numba.pydata.org/):"
      ]
    },
    {
      "cell_type": "code",
      "execution_count": 15,
      "id": "smaller-organizer",
      "metadata": {
        "id": "smaller-organizer",
        "outputId": "bdec8c2e-83cc-4ef1-8ce2-5e688215baa0",
        "colab": {
          "base_uri": "https://localhost:8080/"
        }
      },
      "outputs": [
        {
          "output_type": "stream",
          "name": "stdout",
          "text": [
            "<class 'bifrost.ndarray.ndarray'> [[65.         65.         65.         ... 65.         65.\n",
            "  65.        ]\n",
            " [13.30749412 10.94003268 13.20367584 ... 12.29484387 10.62714621\n",
            "  11.54548168]]\n"
          ]
        }
      ],
      "source": [
        "from numba import jit\n",
        "\n",
        "@jit(nopython=True)\n",
        "def compute(x):\n",
        "    for i in range(len(x)):\n",
        "        x[i] = x[i] + 10\n",
        "\n",
        "compute(data)\n",
        "print(type(data), data)\n",
        "\n"
      ]
    },
    {
      "cell_type": "markdown",
      "id": "informative-brush",
      "metadata": {
        "id": "informative-brush"
      },
      "source": [
        "### Arrays on the CPU and GPU"
      ]
    },
    {
      "cell_type": "markdown",
      "id": "acute-efficiency",
      "metadata": {
        "id": "acute-efficiency"
      },
      "source": [
        "Unlike numpy arrays `bifrost.ndarray` are \"space aware\", meaning that they can exist in different memory spaces.  What we have created so far is in system memory.  `bifrost.ndarray`s can also exist in \"cuda_host\" (pinned) memory and \"cuda\" (GPU) memory:"
      ]
    },
    {
      "cell_type": "code",
      "execution_count": 16,
      "id": "changing-enhancement",
      "metadata": {
        "id": "changing-enhancement",
        "outputId": "0f55e47c-78d3-46ac-a5d3-d0237a4d58c7",
        "colab": {
          "base_uri": "https://localhost:8080/"
        }
      },
      "outputs": [
        {
          "output_type": "stream",
          "name": "stdout",
          "text": [
            "<class 'bifrost.ndarray.ndarray'> float32 (2, 4096) cuda_host\n",
            "<class 'bifrost.ndarray.ndarray'> float32 (2, 4096) cuda\n"
          ]
        }
      ],
      "source": [
        "data2 = bifrost.ndarray(shape=(2,4096), dtype='f32', space='cuda_host')\n",
        "data3 = bifrost.ndarray(shape=(2,4096), dtype='f32', space='cuda')\n",
        "print(type(data2), data2.dtype, data2.shape, data2.bf.space)\n",
        "print(type(data3), data3.dtype, data3.shape, data3.bf.space)"
      ]
    },
    {
      "cell_type": "markdown",
      "id": "million-guess",
      "metadata": {
        "id": "million-guess"
      },
      "source": [
        "To move between the different spaces the `bifrost.ndarray` class provides a `copy` method:"
      ]
    },
    {
      "cell_type": "code",
      "execution_count": 17,
      "id": "talented-lending",
      "metadata": {
        "id": "talented-lending",
        "outputId": "aaedd4e9-78b5-4c9b-caa1-d74bef03f55e",
        "colab": {
          "base_uri": "https://localhost:8080/"
        }
      },
      "outputs": [
        {
          "output_type": "stream",
          "name": "stdout",
          "text": [
            "<class 'bifrost.ndarray.ndarray'> float64 (2, 4096) cuda\n"
          ]
        }
      ],
      "source": [
        "data4 = data.copy(space='cuda')\n",
        "print(type(data4), data4.dtype, data4.shape, data4.bf.space)"
      ]
    },
    {
      "cell_type": "markdown",
      "id": "stable-instrumentation",
      "metadata": {
        "id": "stable-instrumentation"
      },
      "source": [
        "Once on the GPU you can take advantage of Bifrost's GPU-based functions, like `bifrost.map`:"
      ]
    },
    {
      "cell_type": "code",
      "execution_count": 18,
      "id": "prospective-financing",
      "metadata": {
        "id": "prospective-financing",
        "outputId": "b45d4064-d869-418d-b432-32b506e232b6",
        "colab": {
          "base_uri": "https://localhost:8080/"
        }
      },
      "outputs": [
        {
          "output_type": "stream",
          "name": "stdout",
          "text": [
            "data4/data = data*10/data = 10: [[10. 10. 10. ... 10. 10. 10.]\n",
            " [10. 10. 10. ... 10. 10. 10.]]\n"
          ]
        }
      ],
      "source": [
        "bifrost.map(\"a(i,j) *= 10\",\n",
        "            {'a': data4},\n",
        "            axis_names=('i', 'j'),\n",
        "            shape=data4.shape)\n",
        "data4 = data4.copy(space='system')\n",
        "print('data4/data = data*10/data = 10:', data4/data)"
      ]
    },
    {
      "cell_type": "markdown",
      "id": "amateur-bridges",
      "metadata": {
        "id": "amateur-bridges"
      },
      "source": [
        "The `bifrost.map` call here compiles and runs a CUDA kernel that does an element-wise multiplication by ten.  In order to view the results of this kernel call we need to copy the memory back to the \"system\" memory space.  In the future we hope to support a \"cuda_managed\" space to make this easier."
      ]
    },
    {
      "cell_type": "markdown",
      "id": "vocational-archives",
      "metadata": {
        "id": "vocational-archives"
      },
      "source": [
        "`bifrost.map` is an example of a function that does not require any additional setup to run. This code is converted into a CUDA kernel at runtime, using [NVRTC](https://docs.nvidia.com/cuda/nvrtc/index.html). \n",
        "\n",
        "For some Bifrost functions, like `bifrost.fft.Fft`, some setup is required so that the function knows how to run. To show the use of the Bifrost FFT, let us first make some example data on the GPU, using `bf.map`:"
      ]
    },
    {
      "cell_type": "code",
      "execution_count": 21,
      "id": "restricted-carrier",
      "metadata": {
        "id": "restricted-carrier",
        "outputId": "53a29b5e-99ca-4ff7-db75-30705a1863e7",
        "colab": {
          "base_uri": "https://localhost:8080/",
          "height": 296
        }
      },
      "outputs": [
        {
          "output_type": "execute_result",
          "data": {
            "text/plain": [
              "<matplotlib.legend.Legend at 0x7f10ae361610>"
            ]
          },
          "metadata": {},
          "execution_count": 21
        },
        {
          "output_type": "display_data",
          "data": {
            "image/png": "[encoded data removed]",
            "text/plain": [
              "<Figure size 432x288 with 1 Axes>"
            ]
          },
          "metadata": {
            "needs_background": "light"
          }
        }
      ],
      "source": [
        "data = bifrost.ndarray(shape=(16, 4096), dtype='cf32', space='cuda')\n",
        "bifrost.map(\"a(i,j) = exp(Complex<float>(0.0, 2*3.14*i*j/4096))\",\n",
        "            {'a': data},\n",
        "            axis_names=('i', 'j'),\n",
        "            shape=data.shape)\n",
        "data2 = data.copy(space='system')\n",
        "\n",
        "import pylab\n",
        "pylab.plot(data2[0,:].real, label='Re0')\n",
        "#pylab.plot(data2[0,:].imag, label='Im0')\n",
        "pylab.plot(data2[2,:].real, label='Re2')\n",
        "#pylab.plot(data2[2,:].imag, label='Im2')\n",
        "pylab.plot(data2[5,:].real, label='Re5')\n",
        "#pylab.plot(data2[5,:].imag, label='Im5')\n",
        "pylab.xlabel('Time')\n",
        "pylab.ylabel('Value')\n",
        "pylab.legend(loc=0)"
      ]
    },
    {
      "cell_type": "markdown",
      "id": "soviet-conference",
      "metadata": {
        "id": "soviet-conference"
      },
      "source": [
        "Now run the FFT and plot the results. The FFT is initialised using its `.init` method, and then executed using its `.execute` method.  An output data array also needs to be pre-allocated :"
      ]
    },
    {
      "cell_type": "code",
      "execution_count": 22,
      "id": "moral-worship",
      "metadata": {
        "id": "moral-worship",
        "outputId": "164d96ee-bbdd-4fb9-c6d0-91e6cefb3ed3",
        "colab": {
          "base_uri": "https://localhost:8080/",
          "height": 334
        }
      },
      "outputs": [
        {
          "output_type": "execute_result",
          "data": {
            "text/plain": [
              "<matplotlib.legend.Legend at 0x7f10ac836d50>"
            ]
          },
          "metadata": {},
          "execution_count": 22
        },
        {
          "output_type": "stream",
          "name": "stderr",
          "text": [
            "/usr/local/lib/python3.7/dist-packages/google/colab/_event_manager.py:28: UserWarning: Data has no positive values, and therefore cannot be log-scaled.\n",
            "  func(*args, **kwargs)\n"
          ]
        },
        {
          "output_type": "display_data",
          "data": {
            "image/png": "[encoded data removed]",
            "text/plain": [
              "<Figure size 432x288 with 1 Axes>"
            ]
          },
          "metadata": {
            "needs_background": "light"
          }
        }
      ],
      "source": [
        "fdata = bifrost.ndarray(shape=data.shape, dtype='cf32', space='cuda')\n",
        "f = bifrost.fft.Fft()\n",
        "f.init(data, fdata, axes=1, apply_fftshift=True)\n",
        "f.execute(data, fdata)\n",
        "fdata2 = fdata.copy(space='system')\n",
        "ffreqs = numpy.fft.fftfreq(fdata2.shape[1], d=1/4096.)\n",
        "ffreqs = numpy.fft.fftshift(ffreqs)\n",
        "\n",
        "pylab.semilogy(ffreqs, numpy.abs(fdata2[0,:])**2, label='0')\n",
        "pylab.semilogy(ffreqs, numpy.abs(fdata2[2,:])**2, label='2')\n",
        "pylab.semilogy(ffreqs, numpy.abs(fdata2[5,:])**2, label='5')\n",
        "pylab.xlabel('Frequency')\n",
        "pylab.ylabel('Power')\n",
        "pylab.xlim(-10, 10)\n",
        "pylab.legend(loc=0)"
      ]
    },
    {
      "cell_type": "code",
      "execution_count": null,
      "id": "geological-occasions",
      "metadata": {
        "id": "geological-occasions"
      },
      "outputs": [],
      "source": [
        ""
      ]
    }
  ],
  "metadata": {
    "kernelspec": {
      "display_name": "Python 3",
      "language": "python",
      "name": "python3"
    },
    "language_info": {
      "codemirror_mode": {
        "name": "ipython",
        "version": 3
      },
      "file_extension": ".py",
      "mimetype": "text/x-python",
      "name": "python",
      "nbconvert_exporter": "python",
      "pygments_lexer": "ipython3",
      "version": "3.7.6"
    },
    "colab": {
      "name": "00_getting_started.ipynb",
      "provenance": []
    },
    "accelerator": "GPU"
  },
  "nbformat": 4,
  "nbformat_minor": 5
}