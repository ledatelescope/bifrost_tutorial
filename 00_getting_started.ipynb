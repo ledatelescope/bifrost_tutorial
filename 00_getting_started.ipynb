{
  "cells": [
    {
      "cell_type": "markdown",
      "id": "1dfd7ec3",
      "metadata": {
        "id": "1dfd7ec3"
      },
      "source": [
        "# Getting started with Bifrost\n",
        "\n",
        "Once Bifrost is installed you can load the Python API with:"
      ]
    },
    {
      "cell_type": "code",
      "execution_count": 1,
      "id": "proud-container",
      "metadata": {
        "colab": {
          "base_uri": "https://localhost:8080/",
          "height": 306
        },
        "id": "proud-container",
        "outputId": "5633f081-04ce-43c4-d3d4-dcb8941fade1"
      },
      "outputs": [
        {
          "output_type": "error",
          "ename": "ModuleNotFoundError",
          "evalue": "ignored",
          "traceback": [
            "\u001b[0;31m---------------------------------------------------------------------------\u001b[0m",
            "\u001b[0;31mModuleNotFoundError\u001b[0m                       Traceback (most recent call last)",
            "\u001b[0;32m<ipython-input-1-ffe2c8b74e15>\u001b[0m in \u001b[0;36m<module>\u001b[0;34m()\u001b[0m\n\u001b[0;32m----> 1\u001b[0;31m \u001b[0;32mimport\u001b[0m \u001b[0mbifrost\u001b[0m\u001b[0;34m\u001b[0m\u001b[0;34m\u001b[0m\u001b[0m\n\u001b[0m",
            "\u001b[0;31mModuleNotFoundError\u001b[0m: No module named 'bifrost'",
            "",
            "\u001b[0;31m---------------------------------------------------------------------------\u001b[0;32m\nNOTE: If your import is failing due to a missing package, you can\nmanually install dependencies using either !pip or !apt.\n\nTo view examples of installing some common dependencies, click the\n\"Open Examples\" button below.\n\u001b[0;31m---------------------------------------------------------------------------\u001b[0m\n"
          ],
          "errorDetails": {
            "actions": [
              {
                "action": "open_url",
                "actionText": "Open Examples",
                "url": "/notebooks/snippets/importing_libraries.ipynb"
              }
            ]
          }
        }
      ],
      "source": [
        "import bifrost"
      ]
    },
    {
      "cell_type": "markdown",
      "id": "rental-equipment",
      "metadata": {
        "id": "rental-equipment"
      },
      "source": [
        "This loads the core parts of Bifrost and several useful functions.  The main way of interacting with Bifrost is through the `bifrost.ndarray`, a sub-class of `numpy.ndarray`.  You can create an empty array with:"
      ]
    },
    {
      "cell_type": "code",
      "execution_count": null,
      "id": "subject-quebec",
      "metadata": {
        "id": "subject-quebec",
        "outputId": "7d9ff2dd-dfea-4cc1-9a68-efe5aa914dde"
      },
      "outputs": [
        {
          "name": "stdout",
          "output_type": "stream",
          "text": [
            "<class 'bifrost.ndarray.ndarray'> float32 (2, 4096) system\n",
            "[[1.9045215e+31 1.6631021e+22 2.7229835e+20 ... 0.0000000e+00\n",
            "  0.0000000e+00 0.0000000e+00]\n",
            " [0.0000000e+00 0.0000000e+00 0.0000000e+00 ... 4.5557614e-41\n",
            "  1.4012985e-45 0.0000000e+00]]\n"
          ]
        }
      ],
      "source": [
        "data = bifrost.ndarray(shape=(2,4096), dtype='f32', space='system')\n",
        "print(type(data), data.dtype, data.shape, data.bf.space)\n",
        "print(data)"
      ]
    },
    {
      "cell_type": "markdown",
      "id": "eleven-omaha",
      "metadata": {
        "id": "eleven-omaha"
      },
      "source": [
        "Note that bifrost defines datatypes differently to numpy:\n",
        "```\n",
        "f32: 32-bit float (equivalent to numpy float32)\n",
        "cf32: complex 32-bit data (equivalent to numpy complex64)\n",
        "i[8,16,32]: signed integer datatypes of 8, 16 and 32-bit width\n",
        "u[8,16,32]: unsigned integer datatypes of 8, 16 and 32-bit width\n",
        "ci[4,8,16,32]: complex 4-bit per sample, 8-bit, 16-bit and 32-bit datatypes\n",
        "```\n",
        "\n",
        "The `ci4`, `ci8` and `ci16` datatypes do not have an equivalent numpy type, but are commonly encountered in radio astronomy.\n",
        "\n",
        "You can also use the `bifrost.ndarray` to wrap existing numpy arrays:"
      ]
    },
    {
      "cell_type": "code",
      "execution_count": null,
      "id": "lightweight-madrid",
      "metadata": {
        "id": "lightweight-madrid",
        "outputId": "192b8c53-93a9-4fbe-f0c4-6d35813e1c49"
      },
      "outputs": [
        {
          "name": "stdout",
          "output_type": "stream",
          "text": [
            "<class 'bifrost.ndarray.ndarray'> float64 (2, 4096) system\n",
            "r: [[ 0.13445404  0.3175441   0.53332765 ...  1.18956152 -1.15990205\n",
            "  -0.64751085]\n",
            " [ 0.45399238 -0.42930972  0.47645107 ...  2.00526937  2.27132679\n",
            "   0.78468687]]\n",
            "data: [[ 0.13445404  0.3175441   0.53332765 ...  1.18956152 -1.15990205\n",
            "  -0.64751085]\n",
            " [ 0.45399238 -0.42930972  0.47645107 ...  2.00526937  2.27132679\n",
            "   0.78468687]]\n"
          ]
        }
      ],
      "source": [
        "import numpy\n",
        "r = numpy.random.randn(2, 4096)\n",
        "data = bifrost.ndarray(r)\n",
        "print(type(data), data.dtype, data.shape, data.bf.space)\n",
        "print('r:', r)\n",
        "print('data:', data)"
      ]
    },
    {
      "cell_type": "markdown",
      "id": "earlier-latino",
      "metadata": {
        "id": "earlier-latino"
      },
      "source": [
        "Since `bifrost.ndarray`s are derived from numpy arrays they can do many (but not all) of the same things:"
      ]
    },
    {
      "cell_type": "code",
      "execution_count": null,
      "id": "regional-darkness",
      "metadata": {
        "id": "regional-darkness",
        "outputId": "b0014540-15ea-4a4d-9aa1-c9af6c8f9193"
      },
      "outputs": [
        {
          "name": "stdout",
          "output_type": "stream",
          "text": [
            "data += 2.0: [[2.13445404 2.3175441  2.53332765 ... 3.18956152 0.84009795 1.35248915]\n",
            " [2.45399238 1.57069028 2.47645107 ... 4.00526937 4.27132679 2.78468687]]\n",
            "data[0,:] = 55: [[55.         55.         55.         ... 55.         55.\n",
            "  55.        ]\n",
            " [ 2.45399238  1.57069028  2.47645107 ...  4.00526937  4.27132679\n",
            "   2.78468687]]\n"
          ]
        }
      ],
      "source": [
        "data += 2.0\n",
        "print('data += 2.0:', data)\n",
        "data[0,:] = 55\n",
        "print('data[0,:] = 55:', data)"
      ]
    },
    {
      "cell_type": "code",
      "execution_count": null,
      "id": "artificial-spider",
      "metadata": {
        "id": "artificial-spider",
        "outputId": "4f1ae3cd-105b-4730-e1fc-b7bbb9916324"
      },
      "outputs": [
        {
          "name": "stdout",
          "output_type": "stream",
          "text": [
            "data[:,[1,3,5,7]] = 10: [[55.         55.         55.         ... 55.         55.\n",
            "  55.        ]\n",
            " [ 2.45399238  1.57069028  2.47645107 ...  4.00526937  4.27132679\n",
            "   2.78468687]]\n"
          ]
        }
      ],
      "source": [
        "data[:,[1,3,5,7]] = 10\n",
        "print('data[:,[1,3,5,7]] = 10:', data)"
      ]
    },
    {
      "cell_type": "markdown",
      "id": "thirty-stretch",
      "metadata": {
        "id": "thirty-stretch"
      },
      "source": [
        "You can also use `bifrost.ndarray`s with [numba](https://numba.pydata.org/):"
      ]
    },
    {
      "cell_type": "code",
      "execution_count": null,
      "id": "smaller-organizer",
      "metadata": {
        "id": "smaller-organizer",
        "outputId": "b33a3ea8-8aaf-4518-b351-39433408d557"
      },
      "outputs": [
        {
          "name": "stdout",
          "output_type": "stream",
          "text": [
            "<class 'bifrost.ndarray.ndarray'> [[65.         65.         65.         ... 65.         65.\n",
            "  65.        ]\n",
            " [12.45399238 11.57069028 12.47645107 ... 14.00526937 14.27132679\n",
            "  12.78468687]]\n"
          ]
        }
      ],
      "source": [
        "from numba import jit\n",
        "\n",
        "@jit(nopython=True)\n",
        "def compute(x):\n",
        "    for i in range(len(x)):\n",
        "        x[i] = x[i] + 10\n",
        "\n",
        "compute(data)\n",
        "print(type(data), data)\n",
        "\n"
      ]
    },
    {
      "cell_type": "markdown",
      "id": "informative-brush",
      "metadata": {
        "id": "informative-brush"
      },
      "source": [
        "### Arrays on the CPU and GPU"
      ]
    },
    {
      "cell_type": "markdown",
      "id": "acute-efficiency",
      "metadata": {
        "id": "acute-efficiency"
      },
      "source": [
        "Unlike numpy arrays `bifrost.ndarray` are \"space aware\", meaning that they can exist in different memory spaces.  What we have created so far is in system memory.  `bifrost.ndarray`s can also exist in \"cuda_host\" (pinned) memory and \"cuda\" (GPU) memory:"
      ]
    },
    {
      "cell_type": "code",
      "execution_count": null,
      "id": "changing-enhancement",
      "metadata": {
        "id": "changing-enhancement",
        "outputId": "84f7c97b-9de7-418b-b748-7ede65a98640"
      },
      "outputs": [
        {
          "name": "stdout",
          "output_type": "stream",
          "text": [
            "<class 'bifrost.ndarray.ndarray'> float32 (2, 4096) cuda_host\n",
            "<class 'bifrost.ndarray.ndarray'> float32 (2, 4096) cuda\n"
          ]
        }
      ],
      "source": [
        "data2 = bifrost.ndarray(shape=(2,4096), dtype='f32', space='cuda_host')\n",
        "data3 = bifrost.ndarray(shape=(2,4096), dtype='f32', space='cuda')\n",
        "print(type(data2), data2.dtype, data2.shape, data2.bf.space)\n",
        "print(type(data3), data3.dtype, data3.shape, data3.bf.space)"
      ]
    },
    {
      "cell_type": "markdown",
      "id": "million-guess",
      "metadata": {
        "id": "million-guess"
      },
      "source": [
        "To move between the different spaces the `bifrost.ndarray` class provides a `copy` method:"
      ]
    },
    {
      "cell_type": "code",
      "execution_count": null,
      "id": "talented-lending",
      "metadata": {
        "id": "talented-lending",
        "outputId": "e415b5c7-78d0-4b2d-8dd3-f11b427cc928"
      },
      "outputs": [
        {
          "name": "stdout",
          "output_type": "stream",
          "text": [
            "<class 'bifrost.ndarray.ndarray'> float64 (2, 4096) cuda\n"
          ]
        }
      ],
      "source": [
        "data4 = data.copy(space='cuda')\n",
        "print(type(data4), data4.dtype, data4.shape, data4.bf.space)"
      ]
    },
    {
      "cell_type": "markdown",
      "id": "stable-instrumentation",
      "metadata": {
        "id": "stable-instrumentation"
      },
      "source": [
        "Once on the GPU you can take advantage of Bifrost's GPU-based functions, like `bifrost.map`:"
      ]
    },
    {
      "cell_type": "code",
      "execution_count": null,
      "id": "prospective-financing",
      "metadata": {
        "id": "prospective-financing",
        "outputId": "618b8df1-f490-4126-9add-c311e79c71a6"
      },
      "outputs": [
        {
          "name": "stdout",
          "output_type": "stream",
          "text": [
            "data4/data = data*10/data = 10: [[10. 10. 10. ... 10. 10. 10.]\n",
            " [10. 10. 10. ... 10. 10. 10.]]\n"
          ]
        }
      ],
      "source": [
        "bifrost.map(\"a(i,j) *= 10\",\n",
        "            {'a': data4},\n",
        "            axis_names=('i', 'j'),\n",
        "            shape=data4.shape)\n",
        "data4 = data4.copy(space='system')\n",
        "print('data4/data = data*10/data = 10:', data4/data)"
      ]
    },
    {
      "cell_type": "markdown",
      "id": "amateur-bridges",
      "metadata": {
        "id": "amateur-bridges"
      },
      "source": [
        "The `bifrost.map` call here compiles and runs a CUDA kernel that does an element-wise multiplication by ten.  In order to view the results of this kernel call we need to copy the memory back to the \"system\" memory space.  In the future we hope to support a \"cuda_managed\" space to make this easier."
      ]
    },
    {
      "cell_type": "markdown",
      "id": "vocational-archives",
      "metadata": {
        "id": "vocational-archives"
      },
      "source": [
        "`bifrost.map` is an example of a function that does not require any additional setup to run. This code is converted into a CUDA kernel at runtime, using [NVRTC](https://docs.nvidia.com/cuda/nvrtc/index.html). \n",
        "\n",
        "For some Bifrost functions, like `bifrost.fft.Fft`, some setup is required so that the function knows how to run. To show the use of the Bifrost FFT, let us first make some example data on the GPU, using `bf.map`:"
      ]
    },
    {
      "cell_type": "code",
      "execution_count": null,
      "id": "restricted-carrier",
      "metadata": {
        "id": "restricted-carrier",
        "outputId": "0b5aeb24-a92d-4f25-8de3-c1ae41b91529"
      },
      "outputs": [
        {
          "data": {
            "text/plain": [
              "<matplotlib.legend.Legend at 0x7eff6b0ecc50>"
            ]
          },
          "execution_count": 10,
          "metadata": {},
          "output_type": "execute_result"
        },
        {
          "data": {
            "image/png": "[encoded data removed]",
            "text/plain": [
              "<Figure size 432x288 with 1 Axes>"
            ]
          },
          "metadata": {
            "needs_background": "light"
          },
          "output_type": "display_data"
        }
      ],
      "source": [
        "data = bifrost.ndarray(shape=(16, 4096), dtype='cf32', space='cuda')\n",
        "bifrost.map(\"a(i,j) = exp(Complex<float>(0.0, 2*3.14*i*j/4096))\",\n",
        "            {'a': data},\n",
        "            axis_names=('i', 'j'),\n",
        "            shape=data.shape)\n",
        "data2 = data.copy(space='system')\n",
        "\n",
        "import pylab\n",
        "pylab.plot(data2[0,:].real, label='Re0')\n",
        "#pylab.plot(data2[0,:].imag, label='Im0')\n",
        "pylab.plot(data2[2,:].real, label='Re2')\n",
        "#pylab.plot(data2[2,:].imag, label='Im2')\n",
        "pylab.plot(data2[5,:].real, label='Re5')\n",
        "#pylab.plot(data2[5,:].imag, label='Im5')\n",
        "pylab.xlabel('Time')\n",
        "pylab.ylabel('Value')\n",
        "pylab.legend(loc=0)"
      ]
    },
    {
      "cell_type": "markdown",
      "id": "soviet-conference",
      "metadata": {
        "id": "soviet-conference"
      },
      "source": [
        "Now run the FFT and plot the results. The FFT is initialised using its `.init` method, and then executed using its `.execute` method.  An output data array also needs to be pre-allocated :"
      ]
    },
    {
      "cell_type": "code",
      "execution_count": null,
      "id": "moral-worship",
      "metadata": {
        "id": "moral-worship",
        "outputId": "859202c4-b770-4327-f4fb-58ac177c89a7"
      },
      "outputs": [
        {
          "data": {
            "text/plain": [
              "<matplotlib.legend.Legend at 0x7eff6b1b8b38>"
            ]
          },
          "execution_count": 11,
          "metadata": {},
          "output_type": "execute_result"
        },
        {
          "data": {
            "image/png": "[encoded data removed]",
            "text/plain": [
              "<Figure size 432x288 with 1 Axes>"
            ]
          },
          "metadata": {
            "needs_background": "light"
          },
          "output_type": "display_data"
        }
      ],
      "source": [
        "fdata = bifrost.ndarray(shape=data.shape, dtype='cf32', space='cuda')\n",
        "f = bifrost.fft.Fft()\n",
        "f.init(data, fdata, axes=1, apply_fftshift=True)\n",
        "f.execute(data, fdata)\n",
        "fdata2 = fdata.copy(space='system')\n",
        "ffreqs = numpy.fft.fftfreq(fdata2.shape[1], d=1/4096.)\n",
        "ffreqs = numpy.fft.fftshift(ffreqs)\n",
        "\n",
        "pylab.semilogy(ffreqs, numpy.abs(fdata2[0,:])**2, label='0')\n",
        "pylab.semilogy(ffreqs, numpy.abs(fdata2[2,:])**2, label='2')\n",
        "pylab.semilogy(ffreqs, numpy.abs(fdata2[5,:])**2, label='5')\n",
        "pylab.xlabel('Frequency')\n",
        "pylab.ylabel('Power')\n",
        "pylab.xlim(-10, 10)\n",
        "pylab.legend(loc=0)"
      ]
    },
    {
      "cell_type": "code",
      "execution_count": null,
      "id": "geological-occasions",
      "metadata": {
        "id": "geological-occasions"
      },
      "outputs": [],
      "source": [
        ""
      ]
    }
  ],
  "metadata": {
    "kernelspec": {
      "display_name": "Python 3",
      "language": "python",
      "name": "python3"
    },
    "language_info": {
      "codemirror_mode": {
        "name": "ipython",
        "version": 3
      },
      "file_extension": ".py",
      "mimetype": "text/x-python",
      "name": "python",
      "nbconvert_exporter": "python",
      "pygments_lexer": "ipython3",
      "version": "3.7.6"
    },
    "colab": {
      "name": "00_getting_started.ipynb",
      "provenance": []
    }
  },
  "nbformat": 4,
  "nbformat_minor": 5
}